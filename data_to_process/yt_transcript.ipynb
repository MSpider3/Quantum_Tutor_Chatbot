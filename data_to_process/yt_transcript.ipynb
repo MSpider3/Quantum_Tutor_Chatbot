{
 "cells": [
  {
   "cell_type": "code",
   "execution_count": 1,
   "id": "0520d03b",
   "metadata": {},
   "outputs": [],
   "source": [
    "import os\n",
    "import subprocess\n",
    "from pathlib import Path\n",
    "from webvtt import WebVTT\n",
    "from yt_dlp import YoutubeDL"
   ]
  },
  {
   "cell_type": "code",
   "execution_count": 2,
   "id": "5846222e",
   "metadata": {},
   "outputs": [],
   "source": [
    "OUTPUT_DIR = Path(\"captions\")\n",
    "OUTPUT_MD = Path(\"../data_to_process/markdowns/yts_transcripts.md\")"
   ]
  },
  {
   "cell_type": "code",
   "execution_count": 3,
   "id": "de028004",
   "metadata": {},
   "outputs": [],
   "source": [
    "def download_captions(url):\n",
    "    ydl_opts = {\n",
    "        'writesubtitles': True,\n",
    "        'writeautomaticsub': True,\n",
    "        'subtitleslangs': ['en'],\n",
    "        'skip_download': True,\n",
    "        'outtmpl': str(OUTPUT_DIR / '%(title)s.%(ext)s'),\n",
    "        'quiet': True,\n",
    "        'no_warnings': True,\n",
    "    }\n",
    "\n",
    "    with YoutubeDL(ydl_opts) as ydl:\n",
    "        ydl.download([url])"
   ]
  },
  {
   "cell_type": "code",
   "execution_count": 4,
   "id": "d2454ba5",
   "metadata": {},
   "outputs": [],
   "source": [
    "def parse_vtt_to_text(vtt_path):\n",
    "    \"\"\"Convert .vtt file to clean paragraph text\"\"\"\n",
    "    text_chunks = []\n",
    "    for caption in WebVTT().read(vtt_path):\n",
    "        text_chunks.append(caption.text.strip())\n",
    "    return \" \".join(text_chunks)\n"
   ]
  },
  {
   "cell_type": "code",
   "execution_count": 5,
   "id": "f000503f",
   "metadata": {},
   "outputs": [],
   "source": [
    "def process_url(url):\n",
    "    print(f\"📥 Downloading subtitles for: {url}\")\n",
    "    download_captions(url)\n",
    "\n",
    "    # Find all .vtt files just downloaded\n",
    "    for vtt_file in OUTPUT_DIR.glob(\"*.en.vtt\"):\n",
    "        try:\n",
    "            title = vtt_file.stem.replace(\".en\", \"\")\n",
    "            transcript = parse_vtt_to_text(vtt_file)\n",
    "            md_entry = f\"\\n\\n## {title}\\n\\n{transcript}\"\n",
    "\n",
    "            if OUTPUT_MD.exists():\n",
    "                OUTPUT_MD.write_text(OUTPUT_MD.read_text(encoding=\"utf-8\") + md_entry, encoding=\"utf-8\")\n",
    "            else:\n",
    "                OUTPUT_MD.write_text(md_entry, encoding=\"utf-8\")\n",
    "\n",
    "            print(f\"✅ Added: {title}\")\n",
    "            vtt_file.unlink()  # optional: delete the vtt after use\n",
    "        except Exception as e:\n",
    "            print(f\"❌ Failed to process {vtt_file.name}: {e}\")"
   ]
  },
  {
   "cell_type": "code",
   "execution_count": 6,
   "id": "665f1243",
   "metadata": {},
   "outputs": [
    {
     "name": "stdout",
     "output_type": "stream",
     "text": [
      "📥 Downloading subtitles for: https://www.youtube.com/playlist?list=PLOFEBzvs-VvrX2HwqjmzpVSzfJ5wjYBcq\n",
      "✅ Added: Can all computers take advantage of quantum computers？\n",
      "✅ Added: Do you need to write your own software for quantum computers？\n",
      "✅ Added: How do quantum computers break encryption？ #quantum #quantumphysics #quantumcomputing\n",
      "✅ Added: How do quantum computers process information？ #quantum #quantumphysics #quantumcomputing\n",
      "✅ Added: If quantum computers are real, why aren’t they changing the world yet？\n",
      "✅ Added: More Qubits, More Power？ Not So Fast…\n",
      "✅ Added: Quantum Computing： Advanced Insights\n",
      "✅ Added: Quantum Computing： Beyond The Basics\n",
      "✅ Added: Quantum Computing： The Basics\n",
      "✅ Added: Tour a Quantum Lab with Dr. Olivia Lanes\n",
      "✅ Added: What is a Bit-Flip？ Quantum Jargon Explained\n",
      "✅ Added: What is a Hamiltonian？ Quantum Jargon Explained\n",
      "✅ Added: What is a quantum gate？ #quantum #science #quantumcomputing\n",
      "✅ Added: What is an Ansatz？ Quantum Jargon Explained\n",
      "✅ Added: What is Quantum Advantage？ Cutting Through the Hype.\n",
      "✅ Added: What is quantum computing？ #quantum #quantumcomputing #science\n",
      "✅ Added: What is Superposition？ Quantum Jargon Explained\n",
      "✅ Added: When will quantum computers be available？ #quantum #quantumphysics #quantumphysics\n",
      "✅ Added: When will quantum computers break encryption？ #quantum #quantumphysics #quantumcomputing\n",
      "✅ Added: When will quantum computing be common？ #quantum #quantumcomputing #quantumphysics\n",
      "✅ Added: Why are quantum computers so big？ #quantum #quantumcomputing #ibm\n",
      "✅ Added: Why are quantum computers so cold？ #quantum #quantumphysics #quantumcomputing\n",
      "✅ Added: Why are quantum computers so hard to build？ #quantum #quantumphysics #quantumcomputing\n",
      "✅ Added: Will quantum computers ever replace laptops？ #quantum #quantumphysics #quantumcomputing\n",
      "📥 Downloading subtitles for: https://www.youtube.com/watch?v=lt4OsgmUTGI\n",
      "✅ Added: What is Quantum Computing？                    \n",
      "📥 Downloading subtitles for: https://www.youtube.com/watch?v=1lTA2n142Mk\n",
      "📥 Downloading subtitles for: https://www.youtube.com/playlist?list=PLOFEBzvs-VvqKKMXX4vbi4EB1uaErFMSO\n",
      "✅ Added: Correcting Quantum Errors ｜ Understanding Quantum Information & Computation ｜ Lesson 13\n",
      "✅ Added: Density Matrices ｜ Understanding Quantum Information & Computation ｜ Lesson 09\n",
      "✅ Added: Entanglement in Action ｜Understanding Quantum Information & Computation ｜ Lesson 04\n",
      "✅ Added: Fault Tolerant Quantum Computation ｜ Understanding Quantum Information & Computation ｜ Lesson 16\n",
      "✅ Added: General measurements ｜ Understanding Quantum Information & Computation ｜ Lesson 11\n",
      "✅ Added: Grover's Algorithm ｜ Understanding Quantum Information & Computation ｜ Lesson 08\n",
      "✅ Added: Multiple Systems ｜ Understanding Quantum Information & Computation ｜ Lesson 02\n",
      "✅ Added: Phase Estimation and Factoring ｜ Understanding Quantum Information & Computation ｜ Lesson 07\n",
      "✅ Added: Purifications and Fidelity ｜ Understanding Quantum Information & Computation ｜ Lesson 12\n",
      "✅ Added: Quantum Algorithmic Foundations ｜ Understanding Quantum Information & Computation ｜ Lesson 06\n",
      "✅ Added: Quantum Channels ｜ Understanding Quantum Information & Computation ｜ Lesson 10\n",
      "✅ Added: Quantum Circuits ｜ Understanding Quantum Information & Computation ｜ Lesson 03\n",
      "✅ Added: Quantum Error Correction ｜ Understanding Quantum Information & Computation ｜ Lesson 15\n",
      "✅ Added: Quantum Query Algorithms ｜ Understanding Quantum Information & Computation ｜ Lesson 05\n",
      "✅ Added: Single Systems ｜ Understanding Quantum Information & Computation ｜ Lesson 01\n",
      "✅ Added: The Stabilizer Formalism ｜ Understanding Quantum Information & Computation ｜ Lesson 14\n",
      "✅ Added: Understanding Quantum Information & Computation ｜ Course Overview\n",
      "✅ Added: Understanding Quantum Information & Computation ｜ Series Trailer\n",
      "📥 Downloading subtitles for: https://www.youtube.com/watch?v=kgSVkVNxXyU\n",
      "✅ Added: What ＊is＊ a qubit？                            \n",
      "📥 Downloading subtitles for: https://www.youtube.com/watch?v=RQWpF2Gb-gU\n",
      "✅ Added: But what is quantum computing？  (Grover's Algorithm)\n",
      "📥 Downloading subtitles for: https://www.youtube.com/watch?v=Dlsa9EBKDGI\n",
      "✅ Added: Where my explanation of Grover’s algorithm failed\n",
      "\n",
      "📄 Done! All transcripts saved to: C:\\Mehul\\QuantumTutorChatbot\\data_to_process\\markdowns\\yts_transcripts.md\n"
     ]
    }
   ],
   "source": [
    "if __name__ == \"__main__\":\n",
    "    urls = [\n",
    "        \"https://www.youtube.com/playlist?list=PLOFEBzvs-VvrX2HwqjmzpVSzfJ5wjYBcq\",\n",
    "        \"https://www.youtube.com/watch?v=lt4OsgmUTGI\",\n",
    "        \"https://www.youtube.com/watch?v=1lTA2n142Mk\",\n",
    "        \"https://www.youtube.com/playlist?list=PLOFEBzvs-VvqKKMXX4vbi4EB1uaErFMSO\",\n",
    "        \"https://www.youtube.com/watch?v=kgSVkVNxXyU\",\n",
    "        \"https://www.youtube.com/watch?v=RQWpF2Gb-gU\",\n",
    "        \"https://www.youtube.com/watch?v=Dlsa9EBKDGI\"\n",
    "    ]\n",
    "\n",
    "    OUTPUT_DIR.mkdir(exist_ok=True)\n",
    "\n",
    "    for url in urls:\n",
    "        process_url(url)\n",
    "\n",
    "    print(f\"\\n📄 Done! All transcripts saved to: {OUTPUT_MD.resolve()}\")"
   ]
  }
 ],
 "metadata": {
  "kernelspec": {
   "display_name": ".venv",
   "language": "python",
   "name": "python3"
  },
  "language_info": {
   "codemirror_mode": {
    "name": "ipython",
    "version": 3
   },
   "file_extension": ".py",
   "mimetype": "text/x-python",
   "name": "python",
   "nbconvert_exporter": "python",
   "pygments_lexer": "ipython3",
   "version": "3.11.9"
  }
 },
 "nbformat": 4,
 "nbformat_minor": 5
}
